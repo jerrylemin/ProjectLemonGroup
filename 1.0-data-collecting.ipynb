{
 "cells": [
  {
   "cell_type": "code",
   "execution_count": 7,
   "metadata": {},
   "outputs": [],
   "source": [
    "import requests\n",
    "import pandas as pd"
   ]
  },
  {
   "cell_type": "code",
   "execution_count": null,
   "metadata": {},
   "outputs": [],
   "source": [
    "indicators = {\n",
    "    'CO2_pc': ('https://api.ourworldindata.org/v1/indicators/944153.data.json', 'https://api.ourworldindata.org/v1/indicators/944153.metadata.json'),\n",
    "    'CO2_share': ('https://api.ourworldindata.org/v1/indicators/944147.data.json', 'https://api.ourworldindata.org/v1/indicators/944147.metadata.json'),\n",
    "    'GHG_annual': ('https://api.ourworldindata.org/v1/indicators/899063.data.json', 'https://api.ourworldindata.org/v1/indicators/899063.metadata.json'),\n",
    "    'CO2_cumulative': ('https://api.ourworldindata.org/v1/indicators/944121.data.json', 'https://api.ourworldindata.org/v1/indicators/944121.metadata.json'),\n",
    "    'N2O_annual': ('https://api.ourworldindata.org/v1/indicators/899060.data.json', 'https://api.ourworldindata.org/v1/indicators/899060.metadata.json'),\n",
    "    'CH4_annual': ('https://api.ourworldindata.org/v1/indicators/899057.data.json', 'https://api.ourworldindata.org/v1/indicators/899057.metadata.json'),\n",
    "    'CO2_coal': ('https://api.ourworldindata.org/v1/indicators/944128.data.json', 'https://api.ourworldindata.org/v1/indicators/944128.metadata.json'),\n",
    "    'CO2_oil': ('https://api.ourworldindata.org/v1/indicators/944140.data.json', 'https://api.ourworldindata.org/v1/indicators/944140.metadata.json'),\n",
    "    'CO2_gas': ('https://api.ourworldindata.org/v1/indicators/944134.data.json', 'https://api.ourworldindata.org/v1/indicators/944134.metadata.json'),\n",
    "    'CO2_flaring': ('https://api.ourworldindata.org/v1/indicators/944131.data.json', 'https://api.ourworldindata.org/v1/indicators/944131.metadata.json'),\n",
    "    'CO2_transport': ('https://api.ourworldindata.org/v1/indicators/815831.data.json', 'https://api.ourworldindata.org/v1/indicators/815831.metadata.json'),\n",
    "}\n"
   ]
  },
  {
   "cell_type": "code",
   "execution_count": null,
   "metadata": {},
   "outputs": [],
   "source": [
    "# Lấy metadata\n",
    "metadata_url = 'https://api.ourworldindata.org/v1/indicators/944153.metadata.json'\n",
    "metadata_response = requests.get(metadata_url)\n",
    "metadata = metadata_response.json()\n",
    "\n",
    "entities = metadata['dimensions']['entities']['values']\n",
    "entity_id_to_name = {entity['id']: entity['name'] for entity in entities if entity['code'] is not None}\n"
   ]
  },
  {
   "cell_type": "code",
   "execution_count": null,
   "metadata": {},
   "outputs": [],
   "source": [
    "# Lấy dữ liệu cho một chỉ số\n",
    "def fetch_indicator_data(indicator_name, url, entity_id_to_name):\n",
    "    response = requests.get(url)\n",
    "    data = response.json()\n",
    "    \n",
    "    values = data['values']\n",
    "    years = data['years']\n",
    "    entities = data['entities']\n",
    "    \n",
    "    records = []\n",
    "    for i, value in enumerate(values):\n",
    "        entity_id = entities[i]\n",
    "        year_index = i % len(years)\n",
    "        year = years[year_index]\n",
    "        if 2010 <= year <= 2022 and entity_id in entity_id_to_name:\n",
    "            country = entity_id_to_name[entity_id]\n",
    "            records.append([country, year, value])\n",
    "    \n",
    "    return pd.DataFrame(records, columns=['Country', 'Year', indicator_name])\n"
   ]
  },
  {
   "cell_type": "code",
   "execution_count": null,
   "metadata": {},
   "outputs": [],
   "source": [
    "df_final = pd.DataFrame()\n",
    "\n",
    "# Hợp nhất dữ liệu\n",
    "for indicator, (data_url, _) in indicators.items():\n",
    "    df_indicator = fetch_indicator_data(indicator, data_url, entity_id_to_name)\n",
    "    \n",
    "    if df_final.empty:\n",
    "        df_final = df_indicator\n",
    "    else:\n",
    "        df_final = pd.merge(df_final, df_indicator, on=['Country', 'Year'], how='outer')\n"
   ]
  },
  {
   "cell_type": "code",
   "execution_count": null,
   "metadata": {},
   "outputs": [
    {
     "name": "stdout",
     "output_type": "stream",
     "text": [
      "       Country  Year    CO2_pc  CO2_share  GHG_annual  CO2_cumulative  \\\n",
      "0  Afghanistan  2010  0.296733   0.025115  31517414.0       103516320   \n",
      "1  Afghanistan  2011  0.404740   0.034377  35598764.0       115354630   \n",
      "2  Afghanistan  2012  0.329389   0.028725  33642076.0       125389950   \n",
      "3  Afghanistan  2013  0.293283   0.026256  32901880.0       134640460   \n",
      "4  Afghanistan  2014  0.280299   0.025856  33513274.0       143810770   \n",
      "\n",
      "   N2O_annual  CH4_annual   CO2_coal    CO2_oil   CO2_gas  CO2_flaring  \\\n",
      "0   4313534.5  17632924.0  2246032.0  5833088.0  271136.0          0.0   \n",
      "1   4477510.5  18206366.0  4180624.0  7335328.0  307776.0          0.0   \n",
      "2   4489223.0  18100962.0  3125392.0  6573216.0  307776.0          0.0   \n",
      "3   4488093.0  18211250.0  3326912.0  5591264.0  296784.0          0.0   \n",
      "4   4753052.0  18687494.0  3705783.0  5164638.0  271244.0          0.0   \n",
      "\n",
      "   CO2_transport  \n",
      "0      5540000.0  \n",
      "1      6710000.0  \n",
      "2      5850000.0  \n",
      "3      4330000.0  \n",
      "4      3530000.0  \n"
     ]
    }
   ],
   "source": [
    "df_final.to_csv('full_data.csv', index=False)\n",
    "\n",
    "print(df_final.head())"
   ]
  }
 ],
 "metadata": {
  "kernelspec": {
   "display_name": "Python 3",
   "language": "python",
   "name": "python3"
  },
  "language_info": {
   "codemirror_mode": {
    "name": "ipython",
    "version": 3
   },
   "file_extension": ".py",
   "mimetype": "text/x-python",
   "name": "python",
   "nbconvert_exporter": "python",
   "pygments_lexer": "ipython3",
   "version": "3.13.0"
  }
 },
 "nbformat": 4,
 "nbformat_minor": 2
}
